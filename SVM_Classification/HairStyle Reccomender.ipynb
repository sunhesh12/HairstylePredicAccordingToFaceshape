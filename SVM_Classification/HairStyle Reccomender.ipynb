{
 "cells": [
  {
   "cell_type": "code",
   "execution_count": null,
   "id": "be5322de-65d8-485f-b5a2-b64229b7bc10",
   "metadata": {},
   "outputs": [
    {
     "name": "stdout",
     "output_type": "stream",
     "text": [
      "Test Accuracy: 0.5000\n",
      "Top 3 Recommended Hairstyles:\n",
      "1. lob\n",
      "2. side-swept bangs\n",
      "3. pixie cut\n"
     ]
    }
   ],
   "source": [
    "import pandas as pd\n",
    "from sklearn.preprocessing import LabelEncoder,OneHotEncoder\n",
    "from sklearn.model_selection import train_test_split\n",
    "\n",
    "df = pd.read_csv(\"./synthetic_hairstyle_recommendation_dataset.csv\")\n",
    "\n",
    "# le_face = LabelEncoder()\n",
    "# le_hair = LabelEncoder()\n",
    "# le_length = LabelEncoder()\n",
    "le_style = LabelEncoder()\n",
    "\n",
    "# df['face_shape_enc'] = le_face.fit_transform(df['face_shape'])\n",
    "# df['hair_type_enc'] = le_hair.fit_transform(df['hair_type'])\n",
    "# df['hair_length_enc'] = le_length.fit_transform(df['hair_length'])\n",
    "df['style_enc'] = le_style.fit_transform(df['recommended_hairstyle'])\n",
    "\n",
    "#one hot encode input features\n",
    "feature_cols = ['face_shape', 'hair_type', 'hair_length']\n",
    "ohe = OneHotEncoder(sparse_output=False)\n",
    "X= ohe.fit_transform(df[feature_cols])\n",
    "\n",
    "# X = df[['face_shape_enc','hair_type_enc','hair_length_enc']]\n",
    "y = df['style_enc']\n",
    "\n",
    "\n",
    "from sklearn.svm import SVC\n",
    "\n",
    "X_train, X_test, y_train, y_test = train_test_split(X,y, test_size=0.2,random_state=42)\n",
    "\n",
    "svm_model = SVC(probability=True, kernel='rbf' ,C=10, gamma='scale')\n",
    "svm_model.fit(X_train,y_train)\n",
    "\n",
    "\n",
    "from sklearn.metrics import accuracy_score\n",
    "\n",
    "# Predict on test set\n",
    "y_pred = svm_model.predict(X_test)\n",
    "\n",
    "# Calculate accuracy\n",
    "accuracy = accuracy_score(y_test, y_pred)\n",
    "\n",
    "print(f\"Test Accuracy: {accuracy:.4f}\")\n",
    "\n",
    "\n",
    "#Prediction\n",
    "\n",
    "import numpy as np\n",
    "# input_data = [[le_face.transform(['round'])[0],\n",
    "#                le_hair.transform(['wavy'])[0],\n",
    "#                le_length.transform(['medium'])[0]]]\n",
    "input_df = pd.DataFrame([['round','wavy', 'medium']], columns=feature_cols)\n",
    "input_encoded = ohe.transform(input_df)\n",
    "\n",
    "probs = svm_model.predict_proba(input_encoded)[0]\n",
    "\n",
    "top_3_indices = np.argsort(probs)[-3:][::-1]\n",
    "top_3_styles = le_style.inverse_transform(top_3_indices)\n",
    "\n",
    "print(\"Top 3 Recommended Hairstyles:\")\n",
    "for i, style in enumerate(top_3_styles,1):\n",
    "    print(f\"{i}. {style}\")\n",
    "\n",
    "\n"
   ]
  },
  {
   "cell_type": "code",
   "execution_count": null,
   "id": "e66b22c7-f1da-4371-9d08-208b674abaad",
   "metadata": {},
   "outputs": [],
   "source": []
  }
 ],
 "metadata": {
  "kernelspec": {
   "display_name": "Python 3 (ipykernel)",
   "language": "python",
   "name": "python3"
  },
  "language_info": {
   "codemirror_mode": {
    "name": "ipython",
    "version": 3
   },
   "file_extension": ".py",
   "mimetype": "text/x-python",
   "name": "python",
   "nbconvert_exporter": "python",
   "pygments_lexer": "ipython3",
   "version": "3.12.3"
  }
 },
 "nbformat": 4,
 "nbformat_minor": 5
}
