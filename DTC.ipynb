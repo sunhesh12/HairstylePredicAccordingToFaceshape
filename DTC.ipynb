{
 "cells": [
  {
   "cell_type": "code",
   "execution_count": 7,
   "id": "a148af0d",
   "metadata": {},
   "outputs": [
    {
     "name": "stdout",
     "output_type": "stream",
     "text": [
      "Accuracy: 100.00%\n",
      "Predicted Face Shape: heart\n",
      "Recommended Hairstyles: ['Chin-length bob', 'Side part', 'Long layers']\n"
     ]
    }
   ],
   "source": [
    "from sklearn.tree import DecisionTreeClassifier\n",
    "from sklearn.model_selection import train_test_split\n",
    "from sklearn.metrics import accuracy_score\n",
    "import numpy as np\n",
    "\n",
    "# --- Step 1: Simulate some feature data (e.g., facial measurements)\n",
    "# Features: [jaw_width, forehead_width, cheekbone_width, face_length]\n",
    "# These are made-up numbers to simulate distinct face shapes\n",
    "\n",
    "X = np.array([\n",
    "    [6.0, 5.5, 6.2, 8.0],  # oval\n",
    "    [7.0, 7.0, 7.2, 7.0],  # round\n",
    "    [8.5, 7.5, 8.2, 8.0],  # square\n",
    "    [6.0, 6.0, 5.8, 9.5],  # oblong\n",
    "    [6.5, 5.8, 6.0, 7.5],  # heart\n",
    "    # Add more data points to train properly...\n",
    "    [6.1, 5.6, 6.1, 8.1],  # oval\n",
    "    [7.2, 7.1, 7.3, 6.9],  # round\n",
    "    [8.3, 7.4, 8.0, 7.9],  # square\n",
    "    [5.9, 6.1, 5.9, 9.6],  # oblong\n",
    "    [6.4, 5.7, 6.2, 7.4],  # heart\n",
    "])\n",
    "\n",
    "# Labels for each row in X corresponding to face shapes\n",
    "y = [\n",
    "    \"oval\",\n",
    "    \"round\",\n",
    "    \"square\",\n",
    "    \"oblong\",\n",
    "    \"heart\",\n",
    "    \"oval\",\n",
    "    \"round\",\n",
    "    \"square\",\n",
    "    \"oblong\",\n",
    "    \"heart\",\n",
    "]\n",
    "\n",
    "# --- Step 2: Split data into training and testing\n",
    "X_train, X_test, y_train, y_test = train_test_split(X, y, test_size=0.3, random_state=42)\n",
    "\n",
    "# --- Step 3: Train Decision Tree Classifier\n",
    "clf = DecisionTreeClassifier()\n",
    "clf.fit(X_train, y_train)\n",
    "\n",
    "# --- Step 4: Test the model accuracy\n",
    "y_pred = clf.predict(X_test)\n",
    "print(f\"Accuracy: {accuracy_score(y_test, y_pred) * 100:.2f}%\")\n",
    "\n",
    "# --- Step 5: Define hairstyle recommendations\n",
    "hairstyle_recommendations = {\n",
    "    \"oval\": [\"Layered cut\", \"Bob cut\", \"Side part\"],\n",
    "    \"round\": [\"Long layers\", \"Volume on top\", \"Side bangs\"],\n",
    "    \"square\": [\"Soft curls\", \"Side-swept bangs\", \"Layered waves\"],\n",
    "    \"heart\": [\"Chin-length bob\", \"Side part\", \"Long layers\"],\n",
    "    \"oblong\": [\"Fringe bangs\", \"Wavy bob\", \"Layered curls\"],\n",
    "}\n",
    "\n",
    "# --- Step 6: Predict face shape for a new person (simulate new features)\n",
    "new_face_features = np.array([[6.3, 5.7, 6.0, 8.2]])  # Example input\n",
    "\n",
    "predicted_shape = clf.predict(new_face_features)[0]\n",
    "recommended_styles = hairstyle_recommendations.get(predicted_shape, [])\n",
    "\n",
    "print(f\"Predicted Face Shape: {predicted_shape}\")\n",
    "print(\"Recommended Hairstyles:\", recommended_styles)\n"
   ]
  }
 ],
 "metadata": {
  "kernelspec": {
   "display_name": "Python 3",
   "language": "python",
   "name": "python3"
  },
  "language_info": {
   "codemirror_mode": {
    "name": "ipython",
    "version": 3
   },
   "file_extension": ".py",
   "mimetype": "text/x-python",
   "name": "python",
   "nbconvert_exporter": "python",
   "pygments_lexer": "ipython3",
   "version": "3.12.10"
  }
 },
 "nbformat": 4,
 "nbformat_minor": 5
}
